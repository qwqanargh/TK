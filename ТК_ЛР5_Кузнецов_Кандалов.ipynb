{
  "nbformat": 4,
  "nbformat_minor": 0,
  "metadata": {
    "colab": {
      "provenance": []
    },
    "kernelspec": {
      "name": "python3",
      "display_name": "Python 3"
    },
    "language_info": {
      "name": "python"
    }
  },
  "cells": [
    {
      "cell_type": "markdown",
      "source": [
        "5.1 Написать функцию формирования порождающей матрицы кода Рида-\n",
        "Маллера (r,m) в каноническом виде для произвольно заданных r и m."
      ],
      "metadata": {
        "id": "fKUMQ8F_FJwG"
      }
    },
    {
      "cell_type": "code",
      "source": [
        "import math\n",
        "import numpy as np"
      ],
      "metadata": {
        "id": "zyHHGeOvGemN"
      },
      "execution_count": 7,
      "outputs": []
    },
    {
      "cell_type": "code",
      "source": [
        "def bin_generator(m):\n",
        "    a = np.zeros((2 ** m, m), dtype=int)\n",
        "    for i in range(2 ** m):\n",
        "        temp = [int(k) for k in bin(i)[2:].zfill(m)]\n",
        "        a[i] = np.array(temp[-1:-(m + 1):-1])\n",
        "    return a\n",
        "\n",
        "\n",
        "def f(a, I):\n",
        "    m = a.shape[1]\n",
        "    v = np.zeros(2 ** m, dtype=int)\n",
        "    for i in range(2 ** m):\n",
        "        temp = 1\n",
        "        for j in I:\n",
        "            temp *= a[i][j] ^ 1\n",
        "        v[i] = temp\n",
        "    return v\n",
        "\n",
        "\n",
        "def number_of_combinations(i, m):\n",
        "    return math.factorial(m) / math.factorial(m - i) / math.factorial(i)\n",
        "\n",
        "\n",
        "def get_size(r, m):\n",
        "    res = 0\n",
        "    for i in range(r + 1):\n",
        "        res += number_of_combinations(i, m)\n",
        "    return res\n",
        "\n",
        "\n",
        "def I_generator(r, m):\n",
        "    if r < 0:\n",
        "        return []\n",
        "    size1 = number_of_combinations(r, m)\n",
        "    I_list = []\n",
        "    a = [i for i in range(m - 1, -1, -1)]\n",
        "    i = 0\n",
        "    c = 0\n",
        "    while c < size1:\n",
        "        temp = [int(k) for k in bin(i)[2:].zfill(m)]\n",
        "        if sum(temp) == r:\n",
        "            w = []\n",
        "            for k in range(m):\n",
        "                if temp[k]:\n",
        "                    w.append(a[k])\n",
        "            c += 1\n",
        "            I_list.append(w)\n",
        "        i += 1\n",
        "        I_list.sort(reverse=True)\n",
        "        b = list(map(lambda x: list(reversed(x)), I_list))\n",
        "\n",
        "    return list(I_generator(r - 1, m)) + b\n",
        "\n",
        "\n",
        "def G_generator(r, m):\n",
        "    G = np.zeros((int(get_size(r, m)), 2 ** m), dtype=int)\n",
        "    I = I_generator(r, m)\n",
        "    a = bin_generator(m)\n",
        "    for i in range(int(get_size(r, m))):\n",
        "        G[i] = f(a, I[i])\n",
        "    return G"
      ],
      "metadata": {
        "id": "RFrbp18NGhoP"
      },
      "execution_count": 8,
      "outputs": []
    },
    {
      "cell_type": "markdown",
      "source": [
        "5.2 Реализовать алгоритм мажоритарного декодирования для кода Рида-\n",
        "Маллера."
      ],
      "metadata": {
        "id": "SFEuFWEBFO_f"
      }
    },
    {
      "cell_type": "code",
      "source": [
        "def f_t(a, Jc, t):\n",
        "    m = a.shape[1]\n",
        "    v = np.zeros(2 ** m, dtype=int)\n",
        "    for i in range(2 ** m):\n",
        "        temp = 1\n",
        "        for j in Jc:\n",
        "            temp *= (a[i][j] ^ t[j]) ^ 1\n",
        "        v[i] = temp\n",
        "    return v\n",
        "\n",
        "\n",
        "def RM_decoder(w, r, m):\n",
        "    u = []\n",
        "    while r >= 0:\n",
        "        J_list = list(filter(lambda x: len(x) == r, I_generator(r, m)))\n",
        "        base = [i for i in range(m)]\n",
        "        Jc_list = list(map(lambda x: [item for item in base if item not in x], J_list))\n",
        "\n",
        "        a = bin_generator(m)\n",
        "        H_list = []\n",
        "        for i in range(len(J_list)):\n",
        "            v = f(a, J_list[i])\n",
        "            H_list.append([a[i] for i in range(len(v)) if v[i] == 1])\n",
        "\n",
        "        m_list = []\n",
        "\n",
        "        for i in range(len(H_list)):\n",
        "            count1 = 0\n",
        "            count0 = 0\n",
        "            for k in H_list[i]:\n",
        "                if np.sum(w * np.array(f_t(a, Jc_list[i], k))) % 2:\n",
        "                    count1 += 1\n",
        "                else:\n",
        "                    count0 += 1\n",
        "            if count1 == count0:\n",
        "                print(\"Не можем исправить\")\n",
        "                return None\n",
        "            m_list.append(1 if count1 > count0 else 0)\n",
        "\n",
        "        for i in range(len(m_list)):\n",
        "            if m_list[i]:\n",
        "                w ^= f(a, J_list[i])\n",
        "        r -= 1\n",
        "        u = m_list + u\n",
        "\n",
        "    return np.array(u)"
      ],
      "metadata": {
        "id": "-sTs2kYJGmaa"
      },
      "execution_count": 9,
      "outputs": []
    },
    {
      "cell_type": "markdown",
      "source": [
        "5.3 Провести экспериментальную проверку алгоритма декодирования для\n",
        "кода Рида-Маллера (2,4)."
      ],
      "metadata": {
        "id": "UBEM82haFTwo"
      }
    },
    {
      "cell_type": "code",
      "source": [
        "r = 2\n",
        "m = 4\n",
        "u = np.array([0, 1, 0, 0, 0, 0, 0, 0, 0, 1, 0])\n",
        "G = G_generator(r, m)\n",
        "print('G = ')\n",
        "print(G)\n",
        "w = u @ G\n",
        "\n",
        "err1 = np.array([0, 0, 0, 0, 0, 0, 0, 1, 0, 0, 0, 0, 0, 0, 0, 0])\n",
        "w_problem = w ^ err1\n",
        "u_new = RM_decoder(w_problem, r, m)\n",
        "print(u)\n",
        "print(u_new, \"\\n\")\n",
        "\n",
        "err2 = np.array([0, 0, 0, 1, 0, 0, 0, 1, 0, 0, 0, 0, 0, 0, 0, 0])\n",
        "w_problem = w ^ err2\n",
        "u_new = RM_decoder(w_problem, r, m)\n",
        "print(u)\n",
        "print(u_new)"
      ],
      "metadata": {
        "colab": {
          "base_uri": "https://localhost:8080/"
        },
        "id": "JBmaDMmUGNzP",
        "outputId": "4fcae835-5358-4052-e618-f174bc1365c0"
      },
      "execution_count": 11,
      "outputs": [
        {
          "output_type": "stream",
          "name": "stdout",
          "text": [
            "G = \n",
            "[[1 1 1 1 1 1 1 1 1 1 1 1 1 1 1 1]\n",
            " [1 1 1 1 1 1 1 1 0 0 0 0 0 0 0 0]\n",
            " [1 1 1 1 0 0 0 0 1 1 1 1 0 0 0 0]\n",
            " [1 1 0 0 1 1 0 0 1 1 0 0 1 1 0 0]\n",
            " [1 0 1 0 1 0 1 0 1 0 1 0 1 0 1 0]\n",
            " [1 1 1 1 0 0 0 0 0 0 0 0 0 0 0 0]\n",
            " [1 1 0 0 1 1 0 0 0 0 0 0 0 0 0 0]\n",
            " [1 0 1 0 1 0 1 0 0 0 0 0 0 0 0 0]\n",
            " [1 1 0 0 0 0 0 0 1 1 0 0 0 0 0 0]\n",
            " [1 0 1 0 0 0 0 0 1 0 1 0 0 0 0 0]\n",
            " [1 0 0 0 1 0 0 0 1 0 0 0 1 0 0 0]]\n",
            "[0 1 0 0 0 0 0 0 0 1 0]\n",
            "[0 1 0 0 0 0 0 0 0 1 0] \n",
            "\n",
            "Не можем исправить\n",
            "[0 1 0 0 0 0 0 0 0 1 0]\n",
            "None\n"
          ]
        }
      ]
    }
  ]
}