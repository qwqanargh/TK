{
  "nbformat": 4,
  "nbformat_minor": 0,
  "metadata": {
    "colab": {
      "provenance": []
    },
    "kernelspec": {
      "name": "python3",
      "display_name": "Python 3"
    },
    "language_info": {
      "name": "python"
    }
  },
  "cells": [
    {
      "cell_type": "code",
      "execution_count": 3,
      "metadata": {
        "id": "g70mBYoC347S"
      },
      "outputs": [],
      "source": [
        "import numpy as np\n",
        "import math\n",
        "import itertools as iter"
      ]
    },
    {
      "cell_type": "code",
      "source": [
        "# функция вычисления n и k на основе r\n",
        "def calculate_n_k(r):\n",
        "    n = int(math.pow(2, r) - 1)\n",
        "    k = n - r\n",
        "    return n, k\n",
        "  # функция создания таблицы синдромов\n",
        "def create_syndrome_table(H, err_count):\n",
        "    n = len(H)\n",
        "    one_err = np.eye(n, dtype=int)\n",
        "    syndrome_table = {H[i].__str__(): one_err[i] for i in range(n)}\n",
        "\n",
        "    for num in range(2, err_count + 1):\n",
        "        syndrome_arr = [sum(arr) % 2 for arr in np.array(list(iter.combinations(H, num)))]\n",
        "        err_arr = [sum(arr) for arr in np.array(list(iter.combinations(one_err, num)))]\n",
        "        for i in range(len(syndrome_arr)):\n",
        "            syndrome_table[syndrome_arr[i].__str__()] = err_arr[i]\n",
        "\n",
        "    return syndrome_table"
      ],
      "metadata": {
        "id": "zhtsoW014cL6"
      },
      "execution_count": 4,
      "outputs": []
    },
    {
      "cell_type": "markdown",
      "source": [
        "3.1\n",
        "\n"
      ],
      "metadata": {
        "id": "G2Yql3H87YF0"
      }
    },
    {
      "cell_type": "code",
      "source": [
        "# функция создания проверочной матрицы Хемминга\n",
        "def create_hamming(n, r):\n",
        "    E = np.eye(r,dtype=int)\n",
        "    H = []\n",
        "    for i in range(r, 0, -1):\n",
        "        for synd in [sum(arr) for arr in np.array(list(iter.combinations(E, i)))]:\n",
        "            H.append(synd)\n",
        "    return np.array(H)\n",
        "# функция создания порождающей матрицы\n",
        "def create_G(H, n, k):\n",
        "    G = np.zeros((k, n), dtype=int)\n",
        "    for i in range(k):\n",
        "        G[i][i] = 1\n",
        "    G[:, k:] = H[:k, :]\n",
        "    return G"
      ],
      "metadata": {
        "id": "2adnmt024ogP"
      },
      "execution_count": 5,
      "outputs": []
    },
    {
      "cell_type": "markdown",
      "source": [
        "3.2\n"
      ],
      "metadata": {
        "id": "nCP0qsqF7fPZ"
      }
    },
    {
      "cell_type": "code",
      "source": [
        "r = 2\n",
        "n, k = calculate_n_k(r)\n",
        "d = 3\n",
        "print(f'n = {n}, k = {k}, d = {d}', end='\\n\\n')\n",
        "\n",
        "# создадим проверочную матрицу Хэмминга по заданным параметрам\n",
        "H = create_hamming(n, r)\n",
        "print('H =', H, sep='\\n', end='\\n\\n')\n",
        "\n",
        "# создадим пораждающую матрицу\n",
        "G = create_G(H, n, k)\n",
        "print('G =', G, sep='\\n', end='\\n\\n')\n",
        "syndrome_table = create_syndrome_table(H, 1)\n",
        "word = np.array([1])\n",
        "code = np.dot(word, G)\n",
        "print(f'кодовое слово = {code}', end='\\n\\n')\n",
        "\n",
        "error1 = np.array([1, 0, 0])\n",
        "error2 = np.array([1, 0, 1])\n",
        "error3 = np.array([1, 1, 1])\n",
        "\n",
        "err_code1 = code ^ error1\n",
        "err_code2 = code ^ error2\n",
        "err_code3 = code ^ error3\n",
        "\n",
        "syndrome1 = np.dot(err_code1, H) % 2\n",
        "syndrome2 = np.dot(err_code2, H) % 2\n",
        "syndrome3 = np.dot(err_code3, H) % 2\n",
        "print(f'синдром 1 = {syndrome1}, синдром 2 = {syndrome2}, синдром 3 = {syndrome3}', end='\\n\\n')"
      ],
      "metadata": {
        "id": "eag8uuT34vx8",
        "colab": {
          "base_uri": "https://localhost:8080/"
        },
        "outputId": "be75b277-0497-4771-f553-c10904f4026a"
      },
      "execution_count": 7,
      "outputs": [
        {
          "output_type": "stream",
          "name": "stdout",
          "text": [
            "n = 3, k = 1, d = 3\n",
            "\n",
            "H =\n",
            "[[1 1]\n",
            " [1 0]\n",
            " [0 1]]\n",
            "\n",
            "G =\n",
            "[[1 1 1]]\n",
            "\n",
            "кодовое слово = [1 1 1]\n",
            "\n",
            "синдром 1 = [1 1], синдром 2 = [1 0], синдром 3 = [0 0]\n",
            "\n"
          ]
        }
      ]
    },
    {
      "cell_type": "code",
      "source": [
        "print('для однократной ошибки можем обнаружить, но не исправить:')\n",
        "if not np.array_equal(syndrome1, np.zeros(r, dtype=int)):\n",
        "    print(f'ошибка в разряде: {syndrome_table[syndrome1.__str__()]}', end='\\n\\n')\n",
        "else:\n",
        "  print('ошибки нет', end='\\n\\n')\n",
        "\n",
        "print('для двукратной ошибки можем только обнаружить:')\n",
        "if not np.array_equal(syndrome2, np.zeros(r, dtype=int)):\n",
        "    print(f'ошибка в разряде: {syndrome_table[syndrome2.__str__()]}', end='\\n\\n')\n",
        "else:\n",
        "  print('ошибки нет', end='\\n\\n')\n",
        "\n",
        "print('с трёхкратной ошибкой ничего сделать нельзя:')\n",
        "if not np.array_equal(syndrome3, np.zeros(r, dtype=int)):\n",
        "    print(f'ошибка в разряде: {syndrome_table[syndrome3.__str__()]}', end='\\n\\n')\n",
        "else:\n",
        "  print('ошибки нет', end='\\n\\n')"
      ],
      "metadata": {
        "colab": {
          "base_uri": "https://localhost:8080/"
        },
        "id": "P8fajJW-7tKZ",
        "outputId": "72c641f0-e0af-44d6-b89e-4d52d43183aa"
      },
      "execution_count": 8,
      "outputs": [
        {
          "output_type": "stream",
          "name": "stdout",
          "text": [
            "для однократной ошибки можем обнаружить, но не исправить:\n",
            "ошибка в разряде: [1 0 0]\n",
            "\n",
            "для двукратной ошибки можем только обнаружить:\n",
            "ошибка в разряде: [0 1 0]\n",
            "\n",
            "с трёхкратной ошибкой ничего сделать нельзя:\n",
            "ошибки нет\n",
            "\n"
          ]
        }
      ]
    },
    {
      "cell_type": "code",
      "source": [
        "r = 3\n",
        "n, k = calculate_n_k(r)\n",
        "d = 3\n",
        "print(f'n = {n}, k = {k}, d = {d}', end='\\n\\n')\n",
        "\n",
        "# создадим проверочную матрицу Хэмминга по заданным параметрам\n",
        "H = create_hamming(n, r)\n",
        "print('H =', H, sep='\\n', end='\\n\\n')\n",
        "\n",
        "# создадим пораждающую матрицу\n",
        "G = create_G(H, n, k)\n",
        "print('G =', G, sep='\\n', end='\\n\\n')\n",
        "syndrome_table = create_syndrome_table(H, 1)\n",
        "word = np.array([1, 0, 0, 0])\n",
        "code = np.dot(word, G)\n",
        "print(f'кодовое слово = {code}', end='\\n\\n')\n",
        "\n",
        "error1 = np.array([1, 0, 0, 0, 0, 0, 0])\n",
        "error2 = np.array([1, 1, 0, 0, 0, 0, 0])\n",
        "error3 = np.array([1, 1, 0, 0, 0, 0, 1])\n",
        "\n",
        "err_code1 = code ^ error1\n",
        "err_code2 = code ^ error2\n",
        "err_code3 = code ^ error3\n",
        "\n",
        "syndrome1 = np.dot(err_code1, H) % 2\n",
        "syndrome2 = np.dot(err_code2, H) % 2\n",
        "syndrome3 = np.dot(err_code3, H) % 2\n",
        "print(f'синдром 1 = {syndrome1}, синдром 2 = {syndrome2}, синдром 3 = {syndrome3}', end='\\n\\n')\n",
        "print('для однократной ошибки можем обнаружить, но не исправить:')\n",
        "if not np.array_equal(syndrome1, np.zeros(r, dtype=int)):\n",
        "    print(f'ошибка в разряде: {syndrome_table[syndrome1.__str__()]}', end='\\n\\n')\n",
        "else:\n",
        "  print('ошибки нет', end='\\n\\n')\n",
        "\n",
        "print('для двукратной ошибки можем только обнаружить:')\n",
        "if not np.array_equal(syndrome2, np.zeros(r, dtype=int)):\n",
        "    print(f'ошибка в разряде: {syndrome_table[syndrome2.__str__()]}', end='\\n\\n')\n",
        "else:\n",
        "  print('ошибки нет', end='\\n\\n')\n",
        "\n",
        "print('с трёхкратной ошибкой ничего сделать нельзя:')\n",
        "if not np.array_equal(syndrome3, np.zeros(r, dtype=int)):\n",
        "    print(f'ошибка в разряде: {syndrome_table[syndrome3.__str__()]}', end='\\n\\n')\n",
        "else:\n",
        "  print('ошибки нет', end='\\n\\n')"
      ],
      "metadata": {
        "colab": {
          "base_uri": "https://localhost:8080/"
        },
        "id": "5fpW8ExI7nJr",
        "outputId": "471b699d-5d4a-4c5f-d5db-43a0454f0116"
      },
      "execution_count": 9,
      "outputs": [
        {
          "output_type": "stream",
          "name": "stdout",
          "text": [
            "n = 7, k = 4, d = 3\n",
            "\n",
            "H =\n",
            "[[1 1 1]\n",
            " [1 1 0]\n",
            " [1 0 1]\n",
            " [0 1 1]\n",
            " [1 0 0]\n",
            " [0 1 0]\n",
            " [0 0 1]]\n",
            "\n",
            "G =\n",
            "[[1 0 0 0 1 1 1]\n",
            " [0 1 0 0 1 1 0]\n",
            " [0 0 1 0 1 0 1]\n",
            " [0 0 0 1 0 1 1]]\n",
            "\n",
            "кодовое слово = [1 0 0 0 1 1 1]\n",
            "\n",
            "синдром 1 = [1 1 1], синдром 2 = [0 0 1], синдром 3 = [0 0 0]\n",
            "\n",
            "для однократной ошибки можем обнаружить, но не исправить:\n",
            "ошибка в разряде: [1 0 0 0 0 0 0]\n",
            "\n",
            "для двукратной ошибки можем только обнаружить:\n",
            "ошибка в разряде: [0 0 0 0 0 0 1]\n",
            "\n",
            "с трёхкратной ошибкой ничего сделать нельзя:\n",
            "ошибки нет\n",
            "\n"
          ]
        }
      ]
    },
    {
      "cell_type": "code",
      "source": [
        "r = 4\n",
        "n, k = calculate_n_k(r)\n",
        "d = 3\n",
        "print(f'n = {n}, k = {k}, d = {d}', end='\\n\\n')\n",
        "\n",
        "# создадим проверочную матрицу Хэмминга по заданным параметрам\n",
        "H = create_hamming(n, r)\n",
        "print('H =', H, sep='\\n', end='\\n\\n')\n",
        "\n",
        "# создадим пораждающую матрицу\n",
        "G = create_G(H, n, k)\n",
        "print('G =', G, sep='\\n', end='\\n\\n')\n",
        "syndrome_table = create_syndrome_table(H, 1)\n",
        "word = np.array([1, 0, 0, 0, 0, 0, 0, 0, 0, 0, 0])\n",
        "code = np.dot(word, G)\n",
        "print(f'кодовое слово = {code}', end='\\n\\n')\n",
        "\n",
        "error1 = np.array([1, 0, 0, 0, 0, 0, 0, 0, 0, 0, 0, 0, 0, 0, 0])\n",
        "error2 = np.array([1, 1, 0, 0, 0, 0, 0, 0, 0, 0, 0, 0, 0, 0, 0])\n",
        "error3 = np.array([1, 1, 0, 0, 0, 0, 0, 0, 0, 0, 0, 0, 0, 0, 1])\n",
        "\n",
        "err_code1 = code ^ error1\n",
        "err_code2 = code ^ error2\n",
        "err_code3 = code ^ error3\n",
        "\n",
        "syndrome1 = np.dot(err_code1, H) % 2\n",
        "syndrome2 = np.dot(err_code2, H) % 2\n",
        "syndrome3 = np.dot(err_code3, H) % 2\n",
        "print(f'синдром 1 = {syndrome1}, синдром 2 = {syndrome2}, синдром 3 = {syndrome3}', end='\\n\\n')\n",
        "print('для однократной ошибки можем обнаружить, но не исправить:')\n",
        "if not np.array_equal(syndrome1, np.zeros(r, dtype=int)):\n",
        "    print(f'ошибка в разряде: {syndrome_table[syndrome1.__str__()]}', end='\\n\\n')\n",
        "else:\n",
        "  print('ошибки нет', end='\\n\\n')\n",
        "\n",
        "print('для двукратной ошибки можем только обнаружить:')\n",
        "if not np.array_equal(syndrome2, np.zeros(r, dtype=int)):\n",
        "    print(f'ошибка в разряде: {syndrome_table[syndrome2.__str__()]}', end='\\n\\n')\n",
        "else:\n",
        "  print('ошибки нет', end='\\n\\n')\n",
        "\n",
        "print('с трёхкратной ошибкой ничего сделать нельзя:')\n",
        "if not np.array_equal(syndrome3, np.zeros(r, dtype=int)):\n",
        "    print(f'ошибка в разряде: {syndrome_table[syndrome3.__str__()]}', end='\\n\\n')\n",
        "else:\n",
        "  print('ошибки нет', end='\\n\\n')"
      ],
      "metadata": {
        "colab": {
          "base_uri": "https://localhost:8080/"
        },
        "id": "QfqW6m2r8AfR",
        "outputId": "8f2bd185-5dc2-4c61-f769-337fd2e0da19"
      },
      "execution_count": 11,
      "outputs": [
        {
          "output_type": "stream",
          "name": "stdout",
          "text": [
            "n = 15, k = 11, d = 3\n",
            "\n",
            "H =\n",
            "[[1 1 1 1]\n",
            " [1 1 1 0]\n",
            " [1 1 0 1]\n",
            " [1 0 1 1]\n",
            " [0 1 1 1]\n",
            " [1 1 0 0]\n",
            " [1 0 1 0]\n",
            " [1 0 0 1]\n",
            " [0 1 1 0]\n",
            " [0 1 0 1]\n",
            " [0 0 1 1]\n",
            " [1 0 0 0]\n",
            " [0 1 0 0]\n",
            " [0 0 1 0]\n",
            " [0 0 0 1]]\n",
            "\n",
            "G =\n",
            "[[1 0 0 0 0 0 0 0 0 0 0 1 1 1 1]\n",
            " [0 1 0 0 0 0 0 0 0 0 0 1 1 1 0]\n",
            " [0 0 1 0 0 0 0 0 0 0 0 1 1 0 1]\n",
            " [0 0 0 1 0 0 0 0 0 0 0 1 0 1 1]\n",
            " [0 0 0 0 1 0 0 0 0 0 0 0 1 1 1]\n",
            " [0 0 0 0 0 1 0 0 0 0 0 1 1 0 0]\n",
            " [0 0 0 0 0 0 1 0 0 0 0 1 0 1 0]\n",
            " [0 0 0 0 0 0 0 1 0 0 0 1 0 0 1]\n",
            " [0 0 0 0 0 0 0 0 1 0 0 0 1 1 0]\n",
            " [0 0 0 0 0 0 0 0 0 1 0 0 1 0 1]\n",
            " [0 0 0 0 0 0 0 0 0 0 1 0 0 1 1]]\n",
            "\n",
            "кодовое слово = [1 0 0 0 0 0 0 0 0 0 0 1 1 1 1]\n",
            "\n",
            "синдром 1 = [1 1 1 1], синдром 2 = [0 0 0 1], синдром 3 = [0 0 0 0]\n",
            "\n",
            "для однократной ошибки можем обнаружить, но не исправить:\n",
            "ошибка в разряде: [1 0 0 0 0 0 0 0 0 0 0 0 0 0 0]\n",
            "\n",
            "для двукратной ошибки можем только обнаружить:\n",
            "ошибка в разряде: [0 0 0 0 0 0 0 0 0 0 0 0 0 0 1]\n",
            "\n",
            "с трёхкратной ошибкой ничего сделать нельзя:\n",
            "ошибки нет\n",
            "\n"
          ]
        }
      ]
    },
    {
      "cell_type": "code",
      "source": [
        "# функция создания проверочной расширенной матрицы Хемминга\n",
        "def create_advanced_hamming(n, r):\n",
        "    H_ = np.zeros((n+1, r+1), dtype=int)\n",
        "    H_[:n,:r] = create_hamming(n, r)\n",
        "    H_[:,r] += 1\n",
        "    return H_\n",
        "  # функция создания расширенной порождающей матрицы\n",
        "def create_advanced_G(H_, n, k):\n",
        "    G_ = np.zeros((k, n+1), dtype=int)\n",
        "    G_[:, :n] = create_G(H_[:n, :n-k], n, k)\n",
        "    for i in range(k):\n",
        "        G_[i][n] = sum(G_[i]) % 2\n",
        "    return G_"
      ],
      "metadata": {
        "id": "hHnLUiEa8P3c"
      },
      "execution_count": 13,
      "outputs": []
    },
    {
      "cell_type": "markdown",
      "source": [
        "3.4"
      ],
      "metadata": {
        "id": "4bVpzacv8jVL"
      }
    },
    {
      "cell_type": "code",
      "source": [
        "r = 2\n",
        "n, k = calculate_n_k(r)\n",
        "d = 3\n",
        "print(f'n = {n}, k = {k}, d = {d}', end='\\n\\n')\n",
        "\n",
        "# создадим проверочную матрицу Хэмминга по заданным параметрам\n",
        "H_ = create_advanced_hamming(n, r)\n",
        "print('H_ =', H_, sep='\\n', end='\\n\\n')\n",
        "\n",
        "# создадим пораждающую матрицу\n",
        "G_ = create_advanced_G(H_, n, k)\n",
        "print('G_ =', G_, sep='\\n', end='\\n\\n')\n",
        "syndrome_table = create_syndrome_table(H_, 1)\n",
        "word = np.array([1])\n",
        "code = np.dot(word, G_)\n",
        "print(f'кодовое слово = {code}', end='\\n\\n')\n",
        "\n",
        "error1 = np.array([1, 0, 0, 0])\n",
        "error2 = np.array([1, 0, 1, 0])\n",
        "error3 = np.array([1, 1, 0, 1])\n",
        "error4 = np.array([1, 1, 1, 1])\n",
        "\n",
        "err_code1 = code ^ error1\n",
        "err_code2 = code ^ error2\n",
        "err_code3 = code ^ error3\n",
        "err_code4 = code ^ error4\n",
        "\n",
        "syndrome1 = np.dot(err_code1, H_) % 2\n",
        "syndrome2 = np.dot(err_code2, H_) % 2\n",
        "syndrome3 = np.dot(err_code3, H_) % 2\n",
        "syndrome4 = np.dot(err_code4, H_) % 2\n",
        "print(f'синдром 1 = {syndrome1}, синдром 2 = {syndrome2}, синдром 3 = {syndrome3}, синдром 4 = {syndrome4}')\n",
        "def find_error(syndrome, r):\n",
        "    if not np.array_equal(syndrome, np.zeros(r+1, dtype=int)):\n",
        "        if syndrome[r] == 0:\n",
        "            print('двукратная ошибка', end='\\n\\n')\n",
        "        else:\n",
        "          print(f'ошибка в разряде: {syndrome_table[syndrome.__str__()]}', end='\\n\\n')\n",
        "    else:\n",
        "        print('ошибок нет', end='\\n\\n')\n",
        "print('для однократной ошибки можем обнаружить, но не исправить:')\n",
        "find_error(syndrome1, r)\n",
        "print('для двукратной ошибки можем обнаружить и распознать:')\n",
        "find_error(syndrome2, r)\n",
        "print('трёхкратную ошибку можем только обнаружить:')\n",
        "find_error(syndrome3, r)\n",
        "print('с четырёхкратной ошибкой ничего сделать нельзя:')\n",
        "find_error(syndrome4, r)"
      ],
      "metadata": {
        "colab": {
          "base_uri": "https://localhost:8080/"
        },
        "id": "18rJ11Lw8k_G",
        "outputId": "8681d67c-6de0-44fe-a16b-45a913b42e08"
      },
      "execution_count": 14,
      "outputs": [
        {
          "output_type": "stream",
          "name": "stdout",
          "text": [
            "n = 3, k = 1, d = 3\n",
            "\n",
            "H_ =\n",
            "[[1 1 1]\n",
            " [1 0 1]\n",
            " [0 1 1]\n",
            " [0 0 1]]\n",
            "\n",
            "G_ =\n",
            "[[1 1 1 1]]\n",
            "\n",
            "кодовое слово = [1 1 1 1]\n",
            "\n",
            "синдром 1 = [1 1 1], синдром 2 = [1 0 0], синдром 3 = [0 1 1], синдром 4 = [0 0 0]\n",
            "для однократной ошибки можем обнаружить, но не исправить:\n",
            "ошибка в разряде: [1 0 0 0]\n",
            "\n",
            "для двукратной ошибки можем обнаружить и распознать:\n",
            "двукратная ошибка\n",
            "\n",
            "трёхкратную ошибку можем только обнаружить:\n",
            "ошибка в разряде: [0 0 1 0]\n",
            "\n",
            "с четырёхкратной ошибкой ничего сделать нельзя:\n",
            "ошибок нет\n",
            "\n"
          ]
        }
      ]
    },
    {
      "cell_type": "code",
      "source": [
        "r = 3\n",
        "n, k = calculate_n_k(r)\n",
        "d = 3\n",
        "print(f'n = {n}, k = {k}, d = {d}', end='\\n\\n')\n",
        "\n",
        "# создадим проверочную матрицу Хэмминга по заданным параметрам\n",
        "H_ = create_advanced_hamming(n, r)\n",
        "print('H_ =', H_, sep='\\n', end='\\n\\n')\n",
        "\n",
        "# создадим пораждающую матрицу\n",
        "G_ = create_advanced_G(H_, n, k)\n",
        "print('G_ =', G_, sep='\\n', end='\\n\\n')\n",
        "syndrome_table = create_syndrome_table(H_, 1)\n",
        "word = np.array([1, 0, 0, 1])\n",
        "code = np.dot(word, G_)\n",
        "print(f'кодовое слово = {code}', end='\\n\\n')\n",
        "\n",
        "error1 = np.array([1, 0, 0, 0, 0, 0, 0, 0])\n",
        "error2 = np.array([1, 1, 0, 0, 0, 0, 0, 0])\n",
        "error3 = np.array([1, 1, 0, 0, 0, 0, 1, 0])\n",
        "error4 = np.array([1, 1, 0, 0, 0, 0, 1, 1])\n",
        "\n",
        "err_code1 = code ^ error1\n",
        "err_code2 = code ^ error2\n",
        "err_code3 = code ^ error3\n",
        "err_code4 = code ^ error4\n",
        "\n",
        "syndrome1 = np.dot(err_code1, H_) % 2\n",
        "syndrome2 = np.dot(err_code2, H_) % 2\n",
        "syndrome3 = np.dot(err_code3, H_) % 2\n",
        "syndrome4 = np.dot(err_code4, H_) % 2\n",
        "print(f'синдром 1 = {syndrome1}, синдром 2 = {syndrome2}, синдром 3 = {syndrome3}, синдром 4 = {syndrome4}')\n",
        "print('для однократной ошибки можем обнаружить, но не исправить:')\n",
        "find_error(syndrome1, r)\n",
        "print('для двукратной ошибки можем обнаружить и распознать:')\n",
        "find_error(syndrome2, r)\n",
        "print('трёхкратную ошибку можем только обнаружить:')\n",
        "find_error(syndrome3, r)\n",
        "print('с четырёхкратной ошибкой ничего сделать нельзя:')\n",
        "find_error(syndrome4, r)\n"
      ],
      "metadata": {
        "colab": {
          "base_uri": "https://localhost:8080/"
        },
        "id": "kRCxXmCq8v8y",
        "outputId": "eeb74d65-2236-4719-8d7c-f930605fe212"
      },
      "execution_count": 15,
      "outputs": [
        {
          "output_type": "stream",
          "name": "stdout",
          "text": [
            "n = 7, k = 4, d = 3\n",
            "\n",
            "H_ =\n",
            "[[1 1 1 1]\n",
            " [1 1 0 1]\n",
            " [1 0 1 1]\n",
            " [0 1 1 1]\n",
            " [1 0 0 1]\n",
            " [0 1 0 1]\n",
            " [0 0 1 1]\n",
            " [0 0 0 1]]\n",
            "\n",
            "G_ =\n",
            "[[1 0 0 0 1 1 1 0]\n",
            " [0 1 0 0 1 1 0 1]\n",
            " [0 0 1 0 1 0 1 1]\n",
            " [0 0 0 1 0 1 1 1]]\n",
            "\n",
            "кодовое слово = [1 0 0 1 1 2 2 1]\n",
            "\n",
            "синдром 1 = [1 1 1 1], синдром 2 = [0 0 1 0], синдром 3 = [0 0 0 1], синдром 4 = [0 0 0 0]\n",
            "для однократной ошибки можем обнаружить, но не исправить:\n",
            "ошибка в разряде: [1 0 0 0 0 0 0 0]\n",
            "\n",
            "для двукратной ошибки можем обнаружить и распознать:\n",
            "двукратная ошибка\n",
            "\n",
            "трёхкратную ошибку можем только обнаружить:\n",
            "ошибка в разряде: [0 0 0 0 0 0 0 1]\n",
            "\n",
            "с четырёхкратной ошибкой ничего сделать нельзя:\n",
            "ошибок нет\n",
            "\n"
          ]
        }
      ]
    },
    {
      "cell_type": "code",
      "source": [
        "r = 4\n",
        "n, k = calculate_n_k(r)\n",
        "d = 3\n",
        "print(f'n = {n}, k = {k}, d = {d}', end='\\n\\n')\n",
        "\n",
        "# создадим проверочную матрицу Хэмминга по заданным параметрам\n",
        "H_ = create_advanced_hamming(n, r)\n",
        "print('H_ =', H_, sep='\\n', end='\\n\\n')\n",
        "\n",
        "# создадим пораждающую матрицу\n",
        "G_ = create_advanced_G(H_, n, k)\n",
        "print('G_ =', G_, sep='\\n', end='\\n\\n')\n",
        "syndrome_table = create_syndrome_table(H_, 1)\n",
        "word = np.array([1, 0, 0, 1, 0, 1, 0, 0, 1, 0, 0])\n",
        "code = np.dot(word, G_)\n",
        "print(f'кодовое слово = {code}', end='\\n\\n')\n",
        "\n",
        "error1 = np.array([1, 0, 0, 0, 0, 0, 0, 0, 0, 0, 0, 0, 0, 0, 0, 0])\n",
        "error2 = np.array([1, 0, 0, 0, 1, 0, 0, 0, 0, 0, 0, 0, 0, 0, 0, 0])\n",
        "error3 = np.array([1, 0, 0, 0, 0, 0, 0, 1, 0, 0, 0, 0, 1, 0, 0, 0])\n",
        "error4 = np.array([1, 0, 0, 0, 0, 1, 0, 0, 0, 0, 0, 0, 0, 1, 1, 0])\n",
        "\n",
        "err_code1 = code ^ error1\n",
        "err_code2 = code ^ error2\n",
        "err_code3 = code ^ error3\n",
        "err_code4 = code ^ error4\n",
        "\n",
        "syndrome1 = np.dot(err_code1, H_) % 2\n",
        "syndrome2 = np.dot(err_code2, H_) % 2\n",
        "syndrome3 = np.dot(err_code3, H_) % 2\n",
        "syndrome4 = np.dot(err_code4, H_) % 2\n",
        "print(f'синдром 1 = {syndrome1}, синдром 2 = {syndrome2}, синдром 3 = {syndrome3}, синдром 4 = {syndrome4}')\n",
        "print('для однократной ошибки можем обнаружить, но не исправить:')\n",
        "find_error(syndrome1, r)\n",
        "print('для двукратной ошибки можем обнаружить и распознать:')\n",
        "find_error(syndrome2, r)\n",
        "print('трёхкратную ошибку можем только обнаружить:')\n",
        "find_error(syndrome3, r)\n",
        "print('с четырёхкратной ошибкой ничего сделать нельзя:')\n",
        "find_error(syndrome4, r)"
      ],
      "metadata": {
        "colab": {
          "base_uri": "https://localhost:8080/"
        },
        "id": "LqfOMchM83eM",
        "outputId": "987d6fb0-c508-4e2c-f82a-2e418741f406"
      },
      "execution_count": 16,
      "outputs": [
        {
          "output_type": "stream",
          "name": "stdout",
          "text": [
            "n = 15, k = 11, d = 3\n",
            "\n",
            "H_ =\n",
            "[[1 1 1 1 1]\n",
            " [1 1 1 0 1]\n",
            " [1 1 0 1 1]\n",
            " [1 0 1 1 1]\n",
            " [0 1 1 1 1]\n",
            " [1 1 0 0 1]\n",
            " [1 0 1 0 1]\n",
            " [1 0 0 1 1]\n",
            " [0 1 1 0 1]\n",
            " [0 1 0 1 1]\n",
            " [0 0 1 1 1]\n",
            " [1 0 0 0 1]\n",
            " [0 1 0 0 1]\n",
            " [0 0 1 0 1]\n",
            " [0 0 0 1 1]\n",
            " [0 0 0 0 1]]\n",
            "\n",
            "G_ =\n",
            "[[1 0 0 0 0 0 0 0 0 0 0 1 1 1 1 1]\n",
            " [0 1 0 0 0 0 0 0 0 0 0 1 1 1 0 0]\n",
            " [0 0 1 0 0 0 0 0 0 0 0 1 1 0 1 0]\n",
            " [0 0 0 1 0 0 0 0 0 0 0 1 0 1 1 0]\n",
            " [0 0 0 0 1 0 0 0 0 0 0 0 1 1 1 0]\n",
            " [0 0 0 0 0 1 0 0 0 0 0 1 1 0 0 1]\n",
            " [0 0 0 0 0 0 1 0 0 0 0 1 0 1 0 1]\n",
            " [0 0 0 0 0 0 0 1 0 0 0 1 0 0 1 1]\n",
            " [0 0 0 0 0 0 0 0 1 0 0 0 1 1 0 1]\n",
            " [0 0 0 0 0 0 0 0 0 1 0 0 1 0 1 1]\n",
            " [0 0 0 0 0 0 0 0 0 0 1 0 0 1 1 1]]\n",
            "\n",
            "кодовое слово = [1 0 0 1 0 1 0 0 1 0 0 3 3 3 2 3]\n",
            "\n",
            "синдром 1 = [1 1 1 1 1], синдром 2 = [1 0 0 0 0], синдром 3 = [0 0 1 0 1], синдром 4 = [0 0 0 0 0]\n",
            "для однократной ошибки можем обнаружить, но не исправить:\n",
            "ошибка в разряде: [1 0 0 0 0 0 0 0 0 0 0 0 0 0 0 0]\n",
            "\n",
            "для двукратной ошибки можем обнаружить и распознать:\n",
            "двукратная ошибка\n",
            "\n",
            "трёхкратную ошибку можем только обнаружить:\n",
            "ошибка в разряде: [0 0 0 0 0 0 0 0 0 0 0 0 0 1 0 0]\n",
            "\n",
            "с четырёхкратной ошибкой ничего сделать нельзя:\n",
            "ошибок нет\n",
            "\n"
          ]
        }
      ]
    },
    {
      "cell_type": "code",
      "source": [],
      "metadata": {
        "id": "fTGpeU5x85og"
      },
      "execution_count": null,
      "outputs": []
    }
  ]
}