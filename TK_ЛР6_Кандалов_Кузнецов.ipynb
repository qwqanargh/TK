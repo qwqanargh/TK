{
  "cells": [
    {
      "cell_type": "markdown",
      "metadata": {
        "id": "uz8MyLNqgEAO"
      },
      "source": [
        "# 6.1\n",
        "Написать функции кодирования и декодирования для циклического\n",
        "кода (7,4) с порождающим многочленом 𝑔(𝑥) = 1 + 𝑥^2 + 𝑥^3\n",
        ",\n",
        "исправляющего однократные ошибки и провести исследование этого кода\n",
        "для одно-, двух- и трёхкратных ошибок.\n"
      ]
    },
    {
      "cell_type": "code",
      "execution_count": 1,
      "metadata": {
        "id": "jvpBLwzfgEAV"
      },
      "outputs": [],
      "source": [
        "import numpy as np\n",
        "import random"
      ]
    },
    {
      "cell_type": "code",
      "execution_count": 5,
      "metadata": {
        "id": "3LIWnSVagEAY"
      },
      "outputs": [],
      "source": [
        "def polynomial_division_remainder(dividend, divisor):\n",
        "    remainder = list(dividend)\n",
        "    len_divisor = len(divisor)\n",
        "    while len(remainder) >= len_divisor:\n",
        "        shift = len(remainder) - len_divisor\n",
        "        for i in range(len_divisor):\n",
        "            remainder[shift + i] ^= divisor[i]\n",
        "        while len(remainder) > 0 and remainder[len(remainder) - 1] == 0:\n",
        "            remainder = remainder[:len(remainder) - 1]\n",
        "\n",
        "    return np.array(remainder)"
      ]
    },
    {
      "cell_type": "code",
      "execution_count": 6,
      "metadata": {
        "id": "e2RuHkewgEAc"
      },
      "outputs": [],
      "source": [
        "def polynomial_multiply(A, B):\n",
        "    degree_A = len(A)\n",
        "    degree_B = len(B)\n",
        "    result = np.zeros(degree_A + degree_B - 1, dtype=int)\n",
        "\n",
        "    for i in range(degree_B):\n",
        "        if B[i] == 1:\n",
        "            result[i:i + degree_A] ^= A.astype(int)\n",
        "\n",
        "    return result\n"
      ]
    },
    {
      "cell_type": "code",
      "execution_count": 7,
      "metadata": {
        "id": "JHvuUMZwgEAd"
      },
      "outputs": [],
      "source": [
        "def make_and_correct_error(a, g, error_rate):\n",
        "    print(\"Входное сообщение:      \", a)\n",
        "    print(\"Порождающий полином:    \", g)\n",
        "\n",
        "    v = polynomial_multiply(a, g)\n",
        "    print(\"Отправленное сообщение: \", v)\n",
        "\n",
        "    w = v.copy()\n",
        "    error = np.zeros(len(w), dtype=int)\n",
        "\n",
        "    if error_rate == 1:\n",
        "\n",
        "        index = random.randint(0, len(w) - 1)\n",
        "        error[index] = 1\n",
        "    elif error_rate == 2:\n",
        "\n",
        "        index1 = random.randint(0, len(w) - 2)\n",
        "        index2 = index1 + random.choice([1, 2])\n",
        "        error[index1] = 1\n",
        "        error[index2] = 1\n",
        "    else:\n",
        "\n",
        "        error_indices = random.sample(range(w.shape[0]), error_rate)\n",
        "        for index in error_indices:\n",
        "            error[index] = 1\n",
        "\n",
        "    w = (w + error) % 2\n",
        "    print(\"Сообщение с ошибкой:    \", w)\n",
        "\n",
        "    s = polynomial_division_remainder(w, g)\n",
        "    error_templates = None\n",
        "    if error_rate == 1:\n",
        "        error_templates = [[1]]\n",
        "    else:\n",
        "        error_templates = [[1, 1, 1], [1, 0, 1], [1, 1], [1]]\n",
        "\n",
        "    idx = 0\n",
        "    found = False\n",
        "    for template in error_templates:\n",
        "        if np.array_equal(s, template):\n",
        "            found = True\n",
        "    while not found:\n",
        "        s = polynomial_division_remainder(polynomial_multiply(s, np.array([0, 1])), g)\n",
        "        for template in error_templates:\n",
        "            if np.array_equal(s, template):\n",
        "                found = True\n",
        "        idx += 1\n",
        "\n",
        "    temp = np.zeros(len(w), dtype=int)\n",
        "    if idx == 0:\n",
        "        temp[idx] = 1\n",
        "    else:\n",
        "        temp[len(temp) - idx] = 1\n",
        "\n",
        "    e = polynomial_multiply(s, temp)\n",
        "    e = e[:len(w)]\n",
        "    message = (w + e) % 2\n",
        "    print(\"Исправленное сообщение: \", message)\n",
        "\n",
        "    if np.array_equal(v, message):\n",
        "        print(\"Ошибка исправлена корректно\")\n",
        "    else:\n",
        "        print(\"Ошибка исправлена некорректно\")\n"
      ]
    },
    {
      "cell_type": "code",
      "execution_count": 8,
      "metadata": {
        "id": "h07kQ5mTgEAg"
      },
      "outputs": [],
      "source": [
        "a = np.array([1, 0, 0 ,1])\n",
        "g = np.array([1, 0, 1, 1])"
      ]
    },
    {
      "cell_type": "code",
      "execution_count": 9,
      "metadata": {
        "colab": {
          "base_uri": "https://localhost:8080/"
        },
        "id": "EIehGgDHgEAh",
        "outputId": "d34d2ecb-3c59-4d92-d7bc-6533e8550883"
      },
      "outputs": [
        {
          "output_type": "stream",
          "name": "stdout",
          "text": [
            "Входное сообщение:       [1 0 0 1]\n",
            "Порождающий полином:     [1 0 1 1]\n",
            "Отправленное сообщение:  [1 0 1 0 0 1 1]\n",
            "Сообщение с ошибкой:     [1 0 1 0 0 0 1]\n",
            "Исправленное сообщение:  [1 0 1 0 0 1 1]\n",
            "Ошибка исправлена корректно\n"
          ]
        }
      ],
      "source": [
        "make_and_correct_error(a, g, 1)"
      ]
    },
    {
      "cell_type": "code",
      "execution_count": 10,
      "metadata": {
        "colab": {
          "base_uri": "https://localhost:8080/"
        },
        "id": "bKXJ8pQpgEAj",
        "outputId": "100830e8-8ce1-4d5c-de9d-a892fc4cce4f"
      },
      "outputs": [
        {
          "output_type": "stream",
          "name": "stdout",
          "text": [
            "Входное сообщение:       [1 0 0 1]\n",
            "Порождающий полином:     [1 0 1 1]\n",
            "Отправленное сообщение:  [1 0 1 0 0 1 1]\n",
            "Сообщение с ошибкой:     [1 0 1 0 1 1 0]\n",
            "Исправленное сообщение:  [0 0 1 0 1 1 0]\n",
            "Ошибка исправлена некорректно\n"
          ]
        }
      ],
      "source": [
        "make_and_correct_error(a, g, 2)"
      ]
    },
    {
      "cell_type": "code",
      "execution_count": 11,
      "metadata": {
        "colab": {
          "base_uri": "https://localhost:8080/"
        },
        "id": "hqGil2fFgEAm",
        "outputId": "224e609c-3bbe-496f-fd33-f61f5775dadb"
      },
      "outputs": [
        {
          "output_type": "stream",
          "name": "stdout",
          "text": [
            "Входное сообщение:       [1 0 0 1]\n",
            "Порождающий полином:     [1 0 1 1]\n",
            "Отправленное сообщение:  [1 0 1 0 0 1 1]\n",
            "Сообщение с ошибкой:     [1 1 1 0 1 1 0]\n",
            "Исправленное сообщение:  [0 0 1 0 1 1 0]\n",
            "Ошибка исправлена некорректно\n"
          ]
        }
      ],
      "source": [
        "make_and_correct_error(a, g, 3)"
      ]
    },
    {
      "cell_type": "markdown",
      "source": [],
      "metadata": {
        "id": "Brh2Db8SngA_"
      }
    },
    {
      "cell_type": "markdown",
      "metadata": {
        "id": "nUX8pUDDgEAn"
      },
      "source": [
        "# 6.2\n",
        "Написать функции кодирования и декодирования для циклического\n",
        "кода (15,9) с порождающим многочленом 𝑔(𝑥) = 1 + 𝑥^3 + 𝑥^4 + 𝑥^5 + 𝑥^6\n",
        ",\n",
        "исправляющего пакеты ошибок кратности 3 и провести исследование\n",
        "этого кода для пакетов ошибок длины 1, 2, 3 и 4.\n"
      ]
    },
    {
      "cell_type": "code",
      "execution_count": 12,
      "metadata": {
        "id": "FA6FgU8ogEAn"
      },
      "outputs": [],
      "source": [
        "a = np.array([1, 0, 0, 1, 0, 0, 0, 1, 1])\n",
        "g = np.array([1, 0, 0, 1, 1, 1, 1])"
      ]
    },
    {
      "cell_type": "code",
      "execution_count": 13,
      "metadata": {
        "colab": {
          "base_uri": "https://localhost:8080/"
        },
        "id": "Ke4N0YingEAo",
        "outputId": "ce73fe10-6b20-432f-929f-518ef9a71f2c"
      },
      "outputs": [
        {
          "output_type": "stream",
          "name": "stdout",
          "text": [
            "Входное сообщение:       [1 0 0 1 0 0 0 1 1]\n",
            "Порождающий полином:     [1 0 0 1 1 1 1]\n",
            "Отправленное сообщение:  [1 0 0 0 1 1 0 0 0 1 1 0 0 0 1]\n",
            "Сообщение с ошибкой:     [1 0 0 0 1 1 0 0 0 1 1 0 0 0 0]\n",
            "Исправленное сообщение:  [1 0 0 0 1 1 0 0 0 1 1 0 0 0 1]\n",
            "Ошибка исправлена корректно\n"
          ]
        }
      ],
      "source": [
        "make_and_correct_error(a, g, 1)"
      ]
    },
    {
      "cell_type": "code",
      "execution_count": 14,
      "metadata": {
        "colab": {
          "base_uri": "https://localhost:8080/"
        },
        "id": "HzI4GwB0gEAp",
        "outputId": "b841191b-b245-46c7-d127-b6ed50ca3412"
      },
      "outputs": [
        {
          "output_type": "stream",
          "name": "stdout",
          "text": [
            "Входное сообщение:       [1 0 0 1 0 0 0 1 1]\n",
            "Порождающий полином:     [1 0 0 1 1 1 1]\n",
            "Отправленное сообщение:  [1 0 0 0 1 1 0 0 0 1 1 0 0 0 1]\n",
            "Сообщение с ошибкой:     [1 0 0 0 1 0 0 1 0 1 1 0 0 0 1]\n",
            "Исправленное сообщение:  [1 0 0 0 1 1 0 0 0 1 1 0 0 0 1]\n",
            "Ошибка исправлена корректно\n"
          ]
        }
      ],
      "source": [
        "make_and_correct_error(a, g, 2)"
      ]
    },
    {
      "cell_type": "code",
      "execution_count": 15,
      "metadata": {
        "colab": {
          "base_uri": "https://localhost:8080/"
        },
        "id": "y-kp_LzggEAq",
        "outputId": "11d69dde-3b78-47ec-9818-18b40357f1e5"
      },
      "outputs": [
        {
          "output_type": "stream",
          "name": "stdout",
          "text": [
            "Входное сообщение:       [1 0 0 1 0 0 0 1 1]\n",
            "Порождающий полином:     [1 0 0 1 1 1 1]\n",
            "Отправленное сообщение:  [1 0 0 0 1 1 0 0 0 1 1 0 0 0 1]\n",
            "Сообщение с ошибкой:     [1 1 0 0 1 0 0 0 0 1 1 1 0 0 1]\n",
            "Исправленное сообщение:  [1 1 0 0 1 1 1 0 0 1 1 1 0 0 1]\n",
            "Ошибка исправлена некорректно\n"
          ]
        }
      ],
      "source": [
        "make_and_correct_error(a, g, 3)"
      ]
    },
    {
      "cell_type": "code",
      "execution_count": 18,
      "metadata": {
        "colab": {
          "base_uri": "https://localhost:8080/"
        },
        "id": "ghNnquPhgEAr",
        "outputId": "53b49d2f-57bf-4082-d96d-4712fb54bce6"
      },
      "outputs": [
        {
          "output_type": "stream",
          "name": "stdout",
          "text": [
            "Входное сообщение:       [1 0 0 1 0 0 0 1 1]\n",
            "Порождающий полином:     [1 0 0 1 1 1 1]\n",
            "Отправленное сообщение:  [1 0 0 0 1 1 0 0 0 1 1 0 0 0 1]\n",
            "Сообщение с ошибкой:     [1 0 0 0 1 1 1 1 1 1 0 0 0 0 1]\n",
            "Исправленное сообщение:  [0 0 1 0 1 1 1 1 1 1 0 0 0 0 1]\n",
            "Ошибка исправлена некорректно\n"
          ]
        }
      ],
      "source": [
        "make_and_correct_error(a, g, 4)"
      ]
    }
  ],
  "metadata": {
    "kernelspec": {
      "display_name": "Python 3",
      "language": "python",
      "name": "python3"
    },
    "language_info": {
      "codemirror_mode": {
        "name": "ipython",
        "version": 3
      },
      "file_extension": ".py",
      "mimetype": "text/x-python",
      "name": "python",
      "nbconvert_exporter": "python",
      "pygments_lexer": "ipython3",
      "version": "3.10.5"
    },
    "colab": {
      "provenance": []
    }
  },
  "nbformat": 4,
  "nbformat_minor": 0
}